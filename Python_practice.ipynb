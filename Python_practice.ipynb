{
 "cells": [
  {
   "cell_type": "code",
   "execution_count": 2,
   "id": "2f3a751f",
   "metadata": {},
   "outputs": [],
   "source": [
    "k = [23,1,123,144,144,123324,123]"
   ]
  },
  {
   "cell_type": "code",
   "execution_count": 3,
   "id": "846124cd",
   "metadata": {},
   "outputs": [
    {
     "data": {
      "text/plain": [
       "[1, 23, 123, 123, 144, 144, 123324]"
      ]
     },
     "execution_count": 3,
     "metadata": {},
     "output_type": "execute_result"
    }
   ],
   "source": [
    "sorted(k)"
   ]
  },
  {
   "cell_type": "markdown",
   "id": "6f8719f8",
   "metadata": {},
   "source": [
    "## Set method with give you a sequence of unique elements i.e. a set in mathematics"
   ]
  },
  {
   "cell_type": "code",
   "execution_count": 5,
   "id": "43da2933",
   "metadata": {},
   "outputs": [
    {
     "data": {
      "text/plain": [
       "{1, 23, 123, 144, 123324}"
      ]
     },
     "execution_count": 5,
     "metadata": {},
     "output_type": "execute_result"
    }
   ],
   "source": [
    "set(k)"
   ]
  },
  {
   "cell_type": "code",
   "execution_count": 10,
   "id": "83ef927b",
   "metadata": {},
   "outputs": [],
   "source": [
    "list_of_lists = [[67,2],[2,3],[23,54],[234,1]]"
   ]
  },
  {
   "cell_type": "code",
   "execution_count": 11,
   "id": "fc4925f2",
   "metadata": {},
   "outputs": [
    {
     "data": {
      "text/plain": [
       "[[2, 3], [23, 54], [67, 2], [234, 1]]"
      ]
     },
     "execution_count": 11,
     "metadata": {},
     "output_type": "execute_result"
    }
   ],
   "source": [
    "sorted(list_of_lists)"
   ]
  },
  {
   "cell_type": "markdown",
   "id": "f55b74e1",
   "metadata": {},
   "source": [
    "## sorted on list of list will sort the list of list by taking 1st element in all lists inside the main list"
   ]
  },
  {
   "cell_type": "code",
   "execution_count": 12,
   "id": "af75d1d9",
   "metadata": {},
   "outputs": [
    {
     "data": {
      "text/plain": [
       "[[67, 2], [2, 3], [23, 54], [234, 1]]"
      ]
     },
     "execution_count": 12,
     "metadata": {},
     "output_type": "execute_result"
    }
   ],
   "source": [
    "list_of_lists"
   ]
  },
  {
   "cell_type": "markdown",
   "id": "cc30291c",
   "metadata": {},
   "source": [
    "## To sort using other elements we can use itemgetter or lamda"
   ]
  },
  {
   "cell_type": "code",
   "execution_count": 19,
   "id": "c3557187",
   "metadata": {},
   "outputs": [
    {
     "data": {
      "text/plain": [
       "[[234, 1], [67, 2], [2, 3], [23, 54]]"
      ]
     },
     "execution_count": 19,
     "metadata": {},
     "output_type": "execute_result"
    }
   ],
   "source": [
    "sorted(list_of_lists,key=lambda x: x[1])"
   ]
  },
  {
   "cell_type": "code",
   "execution_count": 21,
   "id": "98215816",
   "metadata": {},
   "outputs": [
    {
     "data": {
      "text/plain": [
       "[[234, 1], [67, 2], [2, 3], [23, 54]]"
      ]
     },
     "execution_count": 21,
     "metadata": {},
     "output_type": "execute_result"
    }
   ],
   "source": [
    "from operator import itemgetter\n",
    "sorted(list_of_lists,key=itemgetter(1))"
   ]
  },
  {
   "cell_type": "markdown",
   "id": "4e368cff",
   "metadata": {},
   "source": [
    "## checking if we can get length of string also did not know this also works"
   ]
  },
  {
   "cell_type": "code",
   "execution_count": 22,
   "id": "894c7738",
   "metadata": {},
   "outputs": [],
   "source": [
    "str_ = '1234'"
   ]
  },
  {
   "cell_type": "code",
   "execution_count": 23,
   "id": "afefad2d",
   "metadata": {},
   "outputs": [
    {
     "data": {
      "text/plain": [
       "4"
      ]
     },
     "execution_count": 23,
     "metadata": {},
     "output_type": "execute_result"
    }
   ],
   "source": [
    "len(str_)"
   ]
  },
  {
   "cell_type": "markdown",
   "id": "032561dd",
   "metadata": {},
   "source": [
    "## name, *line = input().split() \n",
    "\n",
    "### split will split the input strings by white space and assign it to whatever is present on LHS now we have 2 things on LHS name and *line. name will store first element from input and everything else will get assigned to line "
   ]
  },
  {
   "cell_type": "code",
   "execution_count": 24,
   "id": "21594fff",
   "metadata": {},
   "outputs": [
    {
     "name": "stdout",
     "output_type": "stream",
     "text": [
      "Pranav 45 78 95 234 6587\n"
     ]
    }
   ],
   "source": [
    "name, *line = input().split()"
   ]
  },
  {
   "cell_type": "code",
   "execution_count": 25,
   "id": "2c29bc69",
   "metadata": {},
   "outputs": [
    {
     "data": {
      "text/plain": [
       "'Pranav'"
      ]
     },
     "execution_count": 25,
     "metadata": {},
     "output_type": "execute_result"
    }
   ],
   "source": [
    "name"
   ]
  },
  {
   "cell_type": "code",
   "execution_count": 28,
   "id": "c005f1e8",
   "metadata": {},
   "outputs": [
    {
     "data": {
      "text/plain": [
       "['45', '78', '95', '234', '6587']"
      ]
     },
     "execution_count": 28,
     "metadata": {},
     "output_type": "execute_result"
    }
   ],
   "source": [
    "line"
   ]
  },
  {
   "cell_type": "code",
   "execution_count": 29,
   "id": "96b8f7b3",
   "metadata": {},
   "outputs": [
    {
     "name": "stdout",
     "output_type": "stream",
     "text": [
      "Pranav 45 78 95 234 6587\n"
     ]
    }
   ],
   "source": [
    "name, *line , val = input().split()"
   ]
  },
  {
   "cell_type": "code",
   "execution_count": 31,
   "id": "8dca91c7",
   "metadata": {},
   "outputs": [
    {
     "data": {
      "text/plain": [
       "('Pranav', ['45', '78', '95', '234'], '6587')"
      ]
     },
     "execution_count": 31,
     "metadata": {},
     "output_type": "execute_result"
    }
   ],
   "source": [
    "name, line , val"
   ]
  },
  {
   "cell_type": "code",
   "execution_count": null,
   "id": "7e3ecf59",
   "metadata": {},
   "outputs": [],
   "source": []
  }
 ],
 "metadata": {
  "kernelspec": {
   "display_name": "Python 3",
   "language": "python",
   "name": "python3"
  },
  "language_info": {
   "codemirror_mode": {
    "name": "ipython",
    "version": 3
   },
   "file_extension": ".py",
   "mimetype": "text/x-python",
   "name": "python",
   "nbconvert_exporter": "python",
   "pygments_lexer": "ipython3",
   "version": "3.6.4"
  }
 },
 "nbformat": 4,
 "nbformat_minor": 5
}
