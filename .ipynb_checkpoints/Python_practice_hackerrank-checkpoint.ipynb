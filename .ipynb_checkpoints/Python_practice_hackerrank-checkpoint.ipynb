{
 "cells": [
  {
   "cell_type": "code",
   "execution_count": 2,
   "id": "24176828",
   "metadata": {},
   "outputs": [],
   "source": [
    "k = [23,1,123,144,144,123324,123]"
   ]
  },
  {
   "cell_type": "code",
   "execution_count": 3,
   "id": "d65ae75f",
   "metadata": {},
   "outputs": [
    {
     "data": {
      "text/plain": [
       "[1, 23, 123, 123, 144, 144, 123324]"
      ]
     },
     "execution_count": 3,
     "metadata": {},
     "output_type": "execute_result"
    }
   ],
   "source": [
    "sorted(k)"
   ]
  },
  {
   "cell_type": "markdown",
   "id": "09bdd20b",
   "metadata": {},
   "source": [
    "## Set method with give you a sequence of unique elements i.e. a set in mathematics"
   ]
  },
  {
   "cell_type": "code",
   "execution_count": 5,
   "id": "eca71364",
   "metadata": {},
   "outputs": [
    {
     "data": {
      "text/plain": [
       "{1, 23, 123, 144, 123324}"
      ]
     },
     "execution_count": 5,
     "metadata": {},
     "output_type": "execute_result"
    }
   ],
   "source": [
    "set(k)"
   ]
  },
  {
   "cell_type": "code",
   "execution_count": 10,
   "id": "2a1fe130",
   "metadata": {},
   "outputs": [],
   "source": [
    "list_of_lists = [[67,2],[2,3],[23,54],[234,1]]"
   ]
  },
  {
   "cell_type": "code",
   "execution_count": 11,
   "id": "8f6457bd",
   "metadata": {},
   "outputs": [
    {
     "data": {
      "text/plain": [
       "[[2, 3], [23, 54], [67, 2], [234, 1]]"
      ]
     },
     "execution_count": 11,
     "metadata": {},
     "output_type": "execute_result"
    }
   ],
   "source": [
    "sorted(list_of_lists)"
   ]
  },
  {
   "cell_type": "markdown",
   "id": "63b1b9ff",
   "metadata": {},
   "source": [
    "## sorted on list of list will sort the list of list by taking 1st element in all lists inside the main list"
   ]
  },
  {
   "cell_type": "code",
   "execution_count": 12,
   "id": "a99bbd09",
   "metadata": {},
   "outputs": [
    {
     "data": {
      "text/plain": [
       "[[67, 2], [2, 3], [23, 54], [234, 1]]"
      ]
     },
     "execution_count": 12,
     "metadata": {},
     "output_type": "execute_result"
    }
   ],
   "source": [
    "list_of_lists"
   ]
  },
  {
   "cell_type": "markdown",
   "id": "06048e36",
   "metadata": {},
   "source": [
    "## To sort using other elements we can use itemgetter or lamda"
   ]
  },
  {
   "cell_type": "code",
   "execution_count": 19,
   "id": "cd5f13a6",
   "metadata": {},
   "outputs": [
    {
     "data": {
      "text/plain": [
       "[[234, 1], [67, 2], [2, 3], [23, 54]]"
      ]
     },
     "execution_count": 19,
     "metadata": {},
     "output_type": "execute_result"
    }
   ],
   "source": [
    "sorted(list_of_lists,key=lambda x: x[1])"
   ]
  },
  {
   "cell_type": "code",
   "execution_count": 21,
   "id": "df2547a6",
   "metadata": {},
   "outputs": [
    {
     "data": {
      "text/plain": [
       "[[234, 1], [67, 2], [2, 3], [23, 54]]"
      ]
     },
     "execution_count": 21,
     "metadata": {},
     "output_type": "execute_result"
    }
   ],
   "source": [
    "from operator import itemgetter\n",
    "sorted(list_of_lists,key=itemgetter(1))"
   ]
  },
  {
   "cell_type": "markdown",
   "id": "cee24a5e",
   "metadata": {},
   "source": [
    "## checking if we can get length of string also did not know this also works"
   ]
  },
  {
   "cell_type": "code",
   "execution_count": 22,
   "id": "1c3b16ed",
   "metadata": {},
   "outputs": [],
   "source": [
    "str_ = '1234'"
   ]
  },
  {
   "cell_type": "code",
   "execution_count": 23,
   "id": "41b61691",
   "metadata": {},
   "outputs": [
    {
     "data": {
      "text/plain": [
       "4"
      ]
     },
     "execution_count": 23,
     "metadata": {},
     "output_type": "execute_result"
    }
   ],
   "source": [
    "len(str_)"
   ]
  },
  {
   "cell_type": "markdown",
   "id": "b5eca24b",
   "metadata": {},
   "source": [
    "## name, *line = input().split() \n",
    "\n",
    "### split will split the input strings by white space and assign it to whatever is present on LHS now we have 2 things on LHS name and *line. name will store first element from input and everything else will get assigned to line "
   ]
  },
  {
   "cell_type": "code",
   "execution_count": 24,
   "id": "24bba2d6",
   "metadata": {},
   "outputs": [
    {
     "name": "stdout",
     "output_type": "stream",
     "text": [
      "Pranav 45 78 95 234 6587\n"
     ]
    }
   ],
   "source": [
    "name, *line = input().split()"
   ]
  },
  {
   "cell_type": "code",
   "execution_count": 25,
   "id": "2fc5face",
   "metadata": {},
   "outputs": [
    {
     "data": {
      "text/plain": [
       "'Pranav'"
      ]
     },
     "execution_count": 25,
     "metadata": {},
     "output_type": "execute_result"
    }
   ],
   "source": [
    "name"
   ]
  },
  {
   "cell_type": "code",
   "execution_count": 28,
   "id": "7e894cc1",
   "metadata": {},
   "outputs": [
    {
     "data": {
      "text/plain": [
       "['45', '78', '95', '234', '6587']"
      ]
     },
     "execution_count": 28,
     "metadata": {},
     "output_type": "execute_result"
    }
   ],
   "source": [
    "line"
   ]
  },
  {
   "cell_type": "code",
   "execution_count": 29,
   "id": "b8a44103",
   "metadata": {},
   "outputs": [
    {
     "name": "stdout",
     "output_type": "stream",
     "text": [
      "Pranav 45 78 95 234 6587\n"
     ]
    }
   ],
   "source": [
    "name, *line , val = input().split()"
   ]
  },
  {
   "cell_type": "code",
   "execution_count": 31,
   "id": "2fa8fcdb",
   "metadata": {},
   "outputs": [
    {
     "data": {
      "text/plain": [
       "('Pranav', ['45', '78', '95', '234'], '6587')"
      ]
     },
     "execution_count": 31,
     "metadata": {},
     "output_type": "execute_result"
    }
   ],
   "source": [
    "name, line , val"
   ]
  },
  {
   "cell_type": "code",
   "execution_count": 32,
   "id": "d32ac88f",
   "metadata": {},
   "outputs": [
    {
     "name": "stdout",
     "output_type": "stream",
     "text": [
      "9404f81864\n"
     ]
    }
   ],
   "source": [
    "str_ = input()"
   ]
  },
  {
   "cell_type": "code",
   "execution_count": 33,
   "id": "fa556963",
   "metadata": {},
   "outputs": [
    {
     "data": {
      "text/plain": [
       "'9404f81864'"
      ]
     },
     "execution_count": 33,
     "metadata": {},
     "output_type": "execute_result"
    }
   ],
   "source": [
    "str_"
   ]
  },
  {
   "cell_type": "code",
   "execution_count": 34,
   "id": "a30eef68",
   "metadata": {},
   "outputs": [
    {
     "ename": "ValueError",
     "evalue": "invalid literal for int() with base 10: '9404f81864'",
     "output_type": "error",
     "traceback": [
      "\u001b[0;31m---------------------------------------------------------------------------\u001b[0m",
      "\u001b[0;31mValueError\u001b[0m                                Traceback (most recent call last)",
      "\u001b[0;32m<ipython-input-34-c6a7bb30f6a3>\u001b[0m in \u001b[0;36m<module>\u001b[0;34m\u001b[0m\n\u001b[0;32m----> 1\u001b[0;31m \u001b[0mnum\u001b[0m \u001b[0;34m=\u001b[0m \u001b[0mint\u001b[0m\u001b[0;34m(\u001b[0m\u001b[0mstr_\u001b[0m\u001b[0;34m)\u001b[0m\u001b[0;34m\u001b[0m\u001b[0m\n\u001b[0m",
      "\u001b[0;31mValueError\u001b[0m: invalid literal for int() with base 10: '9404f81864'"
     ]
    }
   ],
   "source": [
    "num = int(str_)"
   ]
  },
  {
   "cell_type": "code",
   "execution_count": 35,
   "id": "44055799",
   "metadata": {},
   "outputs": [
    {
     "name": "stdout",
     "output_type": "stream",
     "text": [
      "9404781864\n"
     ]
    }
   ],
   "source": [
    "str_ = input()"
   ]
  },
  {
   "cell_type": "code",
   "execution_count": 36,
   "id": "a313552f",
   "metadata": {},
   "outputs": [],
   "source": [
    "num = int(str_)"
   ]
  },
  {
   "cell_type": "code",
   "execution_count": 37,
   "id": "55c0db28",
   "metadata": {},
   "outputs": [
    {
     "data": {
      "text/plain": [
       "9404781864"
      ]
     },
     "execution_count": 37,
     "metadata": {},
     "output_type": "execute_result"
    }
   ],
   "source": [
    "num"
   ]
  },
  {
   "cell_type": "code",
   "execution_count": 38,
   "id": "86b74811",
   "metadata": {},
   "outputs": [
    {
     "data": {
      "text/plain": [
       "'9404781864'"
      ]
     },
     "execution_count": 38,
     "metadata": {},
     "output_type": "execute_result"
    }
   ],
   "source": [
    "str_"
   ]
  },
  {
   "cell_type": "code",
   "execution_count": 41,
   "id": "70926a55",
   "metadata": {},
   "outputs": [
    {
     "data": {
      "text/plain": [
       "'4681874049'"
      ]
     },
     "execution_count": 41,
     "metadata": {},
     "output_type": "execute_result"
    }
   ],
   "source": [
    "str_[::-1]"
   ]
  },
  {
   "cell_type": "code",
   "execution_count": 42,
   "id": "1d2a37ea",
   "metadata": {},
   "outputs": [],
   "source": [
    "str_ = '100'"
   ]
  },
  {
   "cell_type": "code",
   "execution_count": 43,
   "id": "3a373d51",
   "metadata": {},
   "outputs": [],
   "source": [
    "str_ = str_[::-1]"
   ]
  },
  {
   "cell_type": "code",
   "execution_count": 44,
   "id": "462c8253",
   "metadata": {},
   "outputs": [
    {
     "data": {
      "text/plain": [
       "'001'"
      ]
     },
     "execution_count": 44,
     "metadata": {},
     "output_type": "execute_result"
    }
   ],
   "source": [
    "str_"
   ]
  },
  {
   "cell_type": "code",
   "execution_count": 45,
   "id": "3165e8b1",
   "metadata": {},
   "outputs": [
    {
     "data": {
      "text/plain": [
       "1"
      ]
     },
     "execution_count": 45,
     "metadata": {},
     "output_type": "execute_result"
    }
   ],
   "source": [
    "int(str_)"
   ]
  },
  {
   "cell_type": "code",
   "execution_count": 46,
   "id": "e0c2384e",
   "metadata": {},
   "outputs": [
    {
     "name": "stdout",
     "output_type": "stream",
     "text": [
      "pranav pranavsk08@gmail.com\n"
     ]
    },
    {
     "ename": "TypeError",
     "evalue": "'str' object cannot be interpreted as an integer",
     "output_type": "error",
     "traceback": [
      "\u001b[0;31m---------------------------------------------------------------------------\u001b[0m",
      "\u001b[0;31mTypeError\u001b[0m                                 Traceback (most recent call last)",
      "\u001b[0;32m<ipython-input-46-b52885088d1e>\u001b[0m in \u001b[0;36m<module>\u001b[0;34m\u001b[0m\n\u001b[1;32m      1\u001b[0m \u001b[0mname\u001b[0m\u001b[0;34m,\u001b[0m\u001b[0memail_id\u001b[0m \u001b[0;34m=\u001b[0m \u001b[0minput\u001b[0m\u001b[0;34m(\u001b[0m\u001b[0;34m)\u001b[0m\u001b[0;34m.\u001b[0m\u001b[0msplit\u001b[0m\u001b[0;34m(\u001b[0m\u001b[0;34m)\u001b[0m\u001b[0;34m\u001b[0m\u001b[0m\n\u001b[0;32m----> 2\u001b[0;31m \u001b[0musername\u001b[0m\u001b[0;34m,\u001b[0m\u001b[0mdomain\u001b[0m\u001b[0;34m,\u001b[0m\u001b[0mext\u001b[0m \u001b[0;34m=\u001b[0m \u001b[0memail_id\u001b[0m\u001b[0;34m.\u001b[0m\u001b[0msplit\u001b[0m\u001b[0;34m(\u001b[0m\u001b[0;34m'@'\u001b[0m\u001b[0;34m,\u001b[0m\u001b[0;34m'.'\u001b[0m\u001b[0;34m)\u001b[0m\u001b[0;34m\u001b[0m\u001b[0m\n\u001b[0m",
      "\u001b[0;31mTypeError\u001b[0m: 'str' object cannot be interpreted as an integer"
     ]
    }
   ],
   "source": [
    "name,email_id = input().split()\n",
    "username,domain,ext = email_id.split('@','.')"
   ]
  },
  {
   "cell_type": "code",
   "execution_count": 48,
   "id": "6e4f9242",
   "metadata": {},
   "outputs": [
    {
     "data": {
      "text/plain": [
       "True"
      ]
     },
     "execution_count": 48,
     "metadata": {},
     "output_type": "execute_result"
    }
   ],
   "source": [
    "A = 10\n",
    "A in [1,3,5,7,8,10,12]"
   ]
  },
  {
   "cell_type": "code",
   "execution_count": 54,
   "id": "445f10c8",
   "metadata": {},
   "outputs": [
    {
     "name": "stdout",
     "output_type": "stream",
     "text": [
      "8\n",
      "7\n",
      "4\n",
      "2\n",
      "2\n",
      "4\n",
      "10\n",
      "2\n",
      "5\n"
     ]
    }
   ],
   "source": [
    "import random\n",
    "while True:\n",
    "    x = random.randint(1,10)\n",
    "    print(x)\n",
    "    if x == 5:\n",
    "        break\n",
    "    "
   ]
  },
  {
   "cell_type": "code",
   "execution_count": null,
   "id": "d76a0bc9",
   "metadata": {},
   "outputs": [],
   "source": []
  }
 ],
 "metadata": {
  "kernelspec": {
   "display_name": "Python 3",
   "language": "python",
   "name": "python3"
  },
  "language_info": {
   "codemirror_mode": {
    "name": "ipython",
    "version": 3
   },
   "file_extension": ".py",
   "mimetype": "text/x-python",
   "name": "python",
   "nbconvert_exporter": "python",
   "pygments_lexer": "ipython3",
   "version": "3.6.4"
  }
 },
 "nbformat": 4,
 "nbformat_minor": 5
}
